{
 "cells": [
  {
   "cell_type": "markdown",
   "metadata": {},
   "source": [
    "# TASK\n",
    "Follow directly the example from the ConditionalGaussianLikelihood.\n",
    "\n",
    "Instead of fitting the likelihood and recovering the posterior (NLE), fit the posterior directly, with prior imposed from the data (NPE).\n",
    "\n",
    "Compare the samples of the posterior with the analytical posterior."
   ]
  },
  {
   "cell_type": "code",
   "execution_count": 1,
   "metadata": {
    "tags": []
   },
   "outputs": [
    {
     "name": "stderr",
     "output_type": "stream",
     "text": [
      "2023-11-20 14:11:22.724305: I tensorflow/core/platform/cpu_feature_guard.cc:182] This TensorFlow binary is optimized to use available CPU instructions in performance-critical operations.\n",
      "To enable the following instructions: AVX2 FMA, in other operations, rebuild TensorFlow with the appropriate compiler flags.\n"
     ]
    }
   ],
   "source": [
    "# setup\n",
    "%matplotlib inline\n",
    "%load_ext autoreload\n",
    "%autoreload 2\n",
    "\n",
    "from functools import partial\n",
    "import logging\n",
    "import corner\n",
    "import ultranest\n",
    "import numpy as np\n",
    "import matplotlib.pyplot as plt\n",
    "\n",
    "import tensorflow as tf\n",
    "import tensorflow_probability as tfp\n",
    "\n",
    "from py21cmlikelihoods import ConditionalGaussian\n",
    "from py21cmlikelihoods.utils import prepare_dataset\n",
    "\n",
    "tfd = tfp.distributions\n",
    "tfb = tfp.bijectors\n",
    "\n",
    "ultranest_logger = logging.getLogger(\"ultranest\")\n",
    "ultranest_logger.addHandler(logging.NullHandler())\n",
    "ultranest_logger.setLevel(logging.INFO)"
   ]
  },
  {
   "cell_type": "code",
   "execution_count": 2,
   "metadata": {
    "tags": []
   },
   "outputs": [],
   "source": [
    "# constructing the posterior\n",
    "NDE = ConditionalGaussian(\n",
    "    n_parameters = 5, \n",
    "    n_data = 2, \n",
    "    diagonal_covariance = False,\n",
    "    n_hidden = [50] * 10,\n",
    "    optimizer = tf.optimizers.Adam(1e-4), \n",
    "    kernel_initializer = \"glorot_uniform\",\n",
    "    kernel_initializer_kwargs = {},\n",
    "    # kernel_initializer = tf.keras.initializers.RandomNormal,\n",
    "    # kernel_initializer_kwargs = {\"mean\":0.0, \"stddev\": 1e-3, \"seed\":None},\n",
    "    bias_initializer = \"zeros\",\n",
    "    bias_initializer_kwargs = {},\n",
    "    last_layer_bias_initializer = None,\n",
    "    kernel_regularizer = tf.keras.regularizers.L1L2(l1=0.0, l2=1e-1),\n",
    "    bias_regularizer = tf.keras.regularizers.L1L2(l1=0.0, l2=1e-3),\n",
    "    regularize_last_layer = False,\n",
    ")"
   ]
  },
  {
   "cell_type": "code",
   "execution_count": 3,
   "metadata": {
    "tags": []
   },
   "outputs": [],
   "source": [
    "# constructing the training set\n",
    "mu_0 = np.random.normal(0.0, 1.0, size = 100000)\n",
    "sigma_0 = np.random.uniform(0.5, 5.0, size = 100000)\n",
    "params = np.stack([mu_0, sigma_0], axis = -1)\n",
    "data = np.array([np.random.multivariate_normal(np.arange(1, 6)**2 * m, np.diag(np.arange(1, 6)**2 * s**2)) for m, s in params])\n",
    "\n",
    "training_set = prepare_dataset(NDE, data_samples=params, param_samples=data, batch_size=100)"
   ]
  },
  {
   "cell_type": "code",
   "execution_count": 4,
   "metadata": {
    "tags": []
   },
   "outputs": [
    {
     "name": "stdout",
     "output_type": "stream",
     "text": [
      "Epoch 1/50\n",
      "1000/1000 [==============================] - 6s 3ms/step - loss: 34.4927\n",
      "Epoch 2/50\n",
      "1000/1000 [==============================] - 4s 3ms/step - loss: 15.3427\n",
      "Epoch 3/50\n",
      "1000/1000 [==============================] - 3s 3ms/step - loss: 7.6931\n",
      "Epoch 4/50\n",
      "1000/1000 [==============================] - 3s 3ms/step - loss: 4.8677\n",
      "Epoch 5/50\n",
      "1000/1000 [==============================] - 3s 3ms/step - loss: 3.8410\n",
      "Epoch 6/50\n",
      "1000/1000 [==============================] - 4s 3ms/step - loss: 3.4256\n",
      "Epoch 7/50\n",
      "1000/1000 [==============================] - 3s 3ms/step - loss: 3.2279\n",
      "Epoch 8/50\n",
      "1000/1000 [==============================] - 4s 3ms/step - loss: 3.1177\n",
      "Epoch 9/50\n",
      "1000/1000 [==============================] - 4s 3ms/step - loss: 3.0485\n",
      "Epoch 10/50\n",
      "1000/1000 [==============================] - 3s 3ms/step - loss: 3.0012\n",
      "Epoch 11/50\n",
      "1000/1000 [==============================] - 3s 3ms/step - loss: 2.9666\n",
      "Epoch 12/50\n",
      "1000/1000 [==============================] - 4s 3ms/step - loss: 2.9389\n",
      "Epoch 13/50\n",
      "1000/1000 [==============================] - 3s 3ms/step - loss: 2.9151\n",
      "Epoch 14/50\n",
      "1000/1000 [==============================] - 3s 3ms/step - loss: 2.8953\n",
      "Epoch 15/50\n",
      "1000/1000 [==============================] - 4s 3ms/step - loss: 2.8791\n",
      "Epoch 16/50\n",
      "1000/1000 [==============================] - 4s 4ms/step - loss: 2.8653\n",
      "Epoch 17/50\n",
      "1000/1000 [==============================] - 4s 3ms/step - loss: 2.8516\n",
      "Epoch 18/50\n",
      "1000/1000 [==============================] - 3s 3ms/step - loss: 2.8395\n",
      "Epoch 19/50\n",
      "1000/1000 [==============================] - 4s 3ms/step - loss: 2.8286\n",
      "Epoch 20/50\n",
      "1000/1000 [==============================] - 4s 3ms/step - loss: 2.8188\n",
      "Epoch 21/50\n",
      "1000/1000 [==============================] - 4s 4ms/step - loss: 2.8087\n",
      "Epoch 22/50\n",
      "1000/1000 [==============================] - 4s 4ms/step - loss: 2.8011\n",
      "Epoch 23/50\n",
      "1000/1000 [==============================] - 4s 3ms/step - loss: 2.7933\n",
      "Epoch 24/50\n",
      "1000/1000 [==============================] - 3s 3ms/step - loss: 2.7845\n",
      "Epoch 25/50\n",
      "1000/1000 [==============================] - 4s 3ms/step - loss: 2.7761\n",
      "Epoch 26/50\n",
      "1000/1000 [==============================] - 4s 4ms/step - loss: 2.7701\n",
      "Epoch 27/50\n",
      "1000/1000 [==============================] - 4s 3ms/step - loss: 2.7627\n",
      "Epoch 28/50\n",
      "1000/1000 [==============================] - 4s 3ms/step - loss: 2.7580\n",
      "Epoch 29/50\n",
      "1000/1000 [==============================] - 4s 3ms/step - loss: 2.7508\n",
      "Epoch 30/50\n",
      "1000/1000 [==============================] - 4s 3ms/step - loss: 2.7442\n",
      "Epoch 31/50\n",
      "1000/1000 [==============================] - 4s 3ms/step - loss: 2.7391\n",
      "Epoch 32/50\n",
      "1000/1000 [==============================] - 4s 4ms/step - loss: 2.7303\n",
      "Epoch 33/50\n",
      "1000/1000 [==============================] - 4s 3ms/step - loss: 2.7219\n",
      "Epoch 34/50\n",
      "1000/1000 [==============================] - 4s 4ms/step - loss: 2.7129\n",
      "Epoch 35/50\n",
      "1000/1000 [==============================] - 6s 6ms/step - loss: 2.7035\n",
      "Epoch 36/50\n",
      "1000/1000 [==============================] - 6s 5ms/step - loss: 2.6970\n",
      "Epoch 37/50\n",
      "1000/1000 [==============================] - 6s 5ms/step - loss: 2.6901\n",
      "Epoch 38/50\n",
      "1000/1000 [==============================] - 7s 6ms/step - loss: 2.6831\n",
      "Epoch 39/50\n",
      "1000/1000 [==============================] - 5s 4ms/step - loss: 2.6780\n",
      "Epoch 40/50\n",
      "1000/1000 [==============================] - 5s 5ms/step - loss: 2.6729\n",
      "Epoch 41/50\n",
      "1000/1000 [==============================] - 7s 6ms/step - loss: 2.6679\n",
      "Epoch 42/50\n",
      "1000/1000 [==============================] - 8s 6ms/step - loss: 2.6629\n",
      "Epoch 43/50\n",
      "1000/1000 [==============================] - 6s 4ms/step - loss: 2.6597\n",
      "Epoch 44/50\n",
      "1000/1000 [==============================] - 4s 4ms/step - loss: 2.6559\n",
      "Epoch 45/50\n",
      "1000/1000 [==============================] - 5s 4ms/step - loss: 2.6500\n",
      "Epoch 46/50\n",
      "1000/1000 [==============================] - 5s 4ms/step - loss: 2.6486\n",
      "Epoch 47/50\n",
      "1000/1000 [==============================] - 5s 4ms/step - loss: 2.6445\n",
      "Epoch 48/50\n",
      "1000/1000 [==============================] - 5s 5ms/step - loss: 2.6410\n",
      "Epoch 49/50\n",
      "1000/1000 [==============================] - 9s 6ms/step - loss: 2.6373\n",
      "Epoch 50/50\n",
      "1000/1000 [==============================] - 8s 6ms/step - loss: 2.6333\n"
     ]
    }
   ],
   "source": [
    "# training the posterior\n",
    "NDE.train(\n",
    "    epochs = 50,\n",
    "    dataset = training_set,\n",
    "    pretrain = False,\n",
    "    # pretrain_epochs = 10,\n",
    "    pretrain_optimizer = tf.optimizers.Adam(1e-4), \n",
    "    save = False,\n",
    "    save_history = False,\n",
    "    verbose = 1,\n",
    ")"
   ]
  },
  {
   "cell_type": "code",
   "execution_count": 5,
   "metadata": {
    "tags": []
   },
   "outputs": [],
   "source": [
    "mock_measurement = np.random.multivariate_normal(np.arange(1, 6)**2, np.diag(np.arange(1, 6)**2), 10)"
   ]
  },
  {
   "cell_type": "code",
   "execution_count": 6,
   "metadata": {
    "tags": []
   },
   "outputs": [],
   "source": [
    "def log_gauss(x, mu, sigma):\n",
    "    return -0.5 * np.log(2 * np.pi * sigma) - 0.5 * (x - mu)**2 / sigma**2 \n",
    "\n",
    "def analytic_log_likelihood(d, mu_0, sigma_0):\n",
    "    mu = (np.arange(1, 6)**2).reshape(1, -1) * mu_0.reshape(-1, 1)\n",
    "    cov = (np.arange(1, 6)**2).reshape(1, -1) * sigma_0.reshape(-1, 1)**2\n",
    "    c = -2.5 * np.log(2 * np.pi) - 0.5 * np.log(np.prod(cov, axis = -1))\n",
    "    l = -0.5 * np.sum((d - mu)**2 / cov, axis = -1)\n",
    "    return c + l"
   ]
  },
  {
   "cell_type": "code",
   "execution_count": 14,
   "metadata": {
    "tags": []
   },
   "outputs": [],
   "source": [
    "def ultranest_analytic_posterior(p):\n",
    "    # likelihood = np.sum(np.array([analytic_log_likelihood(mock, p[:, 0], p[:, 1]) for mock in mock_measurement]), axis = 0)\n",
    "    likelihood = analytic_log_likelihood(mock_measurement[0], p[:, 0], p[:, 1])\n",
    "    prior = log_gauss(0.0, p[:, 0], 1.0)\n",
    "    return prior + likelihood\n",
    "\n",
    "def transformation(p):\n",
    "    x = np.zeros(p.shape, dtype = p.dtype)\n",
    "    x[:, 0] = -5 + 10 * p[:, 0]\n",
    "    x[:, 1] = 0.5 + 4.5 * p[:, 1]\n",
    "    return x"
   ]
  },
  {
   "cell_type": "code",
   "execution_count": 15,
   "metadata": {
    "tags": []
   },
   "outputs": [
    {
     "data": {
      "application/vnd.jupyter.widget-view+json": {
       "model_id": "7e86b21dea4649f6997eb9f783158ba3",
       "version_major": 2,
       "version_minor": 0
      },
      "text/plain": [
       "VBox(children=(HTML(value=''), GridspecLayout(children=(HTML(value=\"<div style='background-color:#6E6BF4;'>&nb…"
      ]
     },
     "metadata": {},
     "output_type": "display_data"
    },
    {
     "name": "stdout",
     "output_type": "stream",
     "text": [
      "Z=-17.5(98.93%) | Like=-12.63..-12.61 [-12.6264..-12.6264]*| it/evals=9408/14245 eff=71.0306% N=1000  \n",
      "logZ = -17.485 +- 0.102\n",
      "  single instance: logZ = -17.485 +- 0.058\n",
      "  bootstrapped   : logZ = -17.487 +- 0.101\n",
      "  tail           : logZ = +- 0.010\n",
      "insert order U test : converged: True correlation: inf iterations\n",
      "\n",
      "    mu_0                : -0.69 │ ▁  ▁▁▁▁▁▁▁▁▁▁▁▁▁▁▁▂▃▅▇▇▅▃▂▁▁▁▁▁▁ ▁  ▁ │2.42      1.13 +- 0.21\n",
      "    sigma_0             : 0.50  │▂▄▇▇▇▇▆▅▄▃▃▃▂▂▂▁▁▁▁▁▁▁▁▁▁▁▁▁▁▁▁▁▁▁▁▁▁▁▁│5.00      1.39 +- 0.70\n",
      "\n"
     ]
    }
   ],
   "source": [
    "sampler_analytic = ultranest.ReactiveNestedSampler(\n",
    "    [\"mu_0\", \"sigma_0\"], \n",
    "    loglike = ultranest_analytic_posterior, \n",
    "    transform = transformation,\n",
    "    vectorized = True,\n",
    "    draw_multiple = True,\n",
    "    ndraw_min = 1000,\n",
    "    ndraw_max = 100000,\n",
    ")\n",
    "result_analytic = sampler_analytic.run(\n",
    "    min_num_live_points = 1000,\n",
    "    min_ess = 1000,\n",
    ")\n",
    "sampler_analytic.print_results()"
   ]
  },
  {
   "cell_type": "markdown",
   "metadata": {},
   "source": [
    "Recovering posterior for one mock observation $P(\\mu, \\sigma | d_1)$ would be very trivial. One would simply call `NDE.conditional_sample(100000, conditional = mock_measurement)`. Let's do that for the first mock measurement."
   ]
  },
  {
   "cell_type": "code",
   "execution_count": 16,
   "metadata": {
    "tags": []
   },
   "outputs": [
    {
     "data": {
      "image/png": "[encoded data removed]",
      "text/plain": [
       "<Figure size 550x550 with 4 Axes>"
      ]
     },
     "metadata": {},
     "output_type": "display_data"
    }
   ],
   "source": [
    "NDE_sample = NDE.conditional_sample(100000, conditional = mock_measurement[0])"
   ]
  },
  {
   "cell_type": "code",
   "execution_count": 17,
   "metadata": {
    "tags": []
   },
   "outputs": [
    {
     "data": {
      "text/plain": [
       "<Figure size 500x500 with 0 Axes>"
      ]
     },
     "metadata": {},
     "output_type": "display_data"
    },
    {
     "data": {
      "image/png": "[encoded data removed]",
      "text/plain": [
       "<Figure size 550x550 with 4 Axes>"
      ]
     },
     "metadata": {},
     "output_type": "display_data"
    }
   ],
   "source": [
    "fig = plt.figure(figsize = (5, 5))\n",
    "fig = corner.corner(\n",
    "    NDE_sample.numpy(),\n",
    "    truths = [1.0, 1.0], \n",
    "    levels = (0.68, 0.95), \n",
    "    plot_contour=True,\n",
    "    plot_density=False,\n",
    "    plot_datapoints=False,\n",
    "    color = \"blue\",\n",
    "    labels = [\"$\\mu_0$\", \"$\\sigma_0$\"],\n",
    ")\n",
    "fig = cornerplot(result_analytic, fig, \"red\")"
   ]
  },
  {
   "cell_type": "markdown",
   "metadata": {},
   "source": [
    "However, as we have multiple measurements, and we want to recover full posterior $P(\\mu, \\sigma | x_1, x_2, \\ldots, x_{10})$ we can use the following trick.\n",
    "$$\n",
    "\\begin{aligned}\n",
    "P(\\mu, \\sigma | x_1, x_2, \\ldots, x_N) &= \\frac{P(x_1, x_2, \\ldots, x_N | \\mu, \\sigma) \\cdot P(\\mu, \\sigma)}{P(x_1, x_2, \\ldots, x_N)} \\\\\n",
    "&= \\frac{1}{P(\\mu, \\sigma)^{N-1}}\\prod_{i=1}^N \\frac{P(x_i | \\mu, \\sigma) \\cdot P(\\mu, \\sigma)}{P(x_i)} \\\\\n",
    "&= P(\\mu, \\sigma)^{1 - N}\\prod_{i=1}^N P(\\mu, \\sigma | x_i)\n",
    "\\end{aligned}\n",
    "$$\n",
    "\n",
    "Use this trick to recover the full posterior."
   ]
  },
  {
   "cell_type": "code",
   "execution_count": 10,
   "metadata": {
    "tags": []
   },
   "outputs": [],
   "source": [
    "def ultranest_NDE_posterior(p):\n",
    "    N = 10\n",
    "    posterior_sum = np.sum(np.array([NDE.log_prob(p, mock).numpy() for mock in mock_measurement]), axis = 0)\n",
    "    prior = log_gauss(0.0, p[:, 0], 1.0)\n",
    "    return posterior_sum + (1 - N) * prior"
   ]
  },
  {
   "cell_type": "code",
   "execution_count": null,
   "metadata": {},
   "outputs": [],
   "source": [
    "def ultranest_analytic_posterior(p):\n",
    "    likelihood = np.sum(np.array([analytic_log_likelihood(mock, p[:, 0], p[:, 1]) for mock in mock_measurement]), axis = 0)\n",
    "    # likelihood = analytic_log_likelihood(mock_measurement[0], p[:, 0], p[:, 1])\n",
    "    prior = log_gauss(0.0, p[:, 0], 1.0)\n",
    "    return prior + likelihood"
   ]
  },
  {
   "cell_type": "code",
   "execution_count": null,
   "metadata": {},
   "outputs": [],
   "source": [
    "sampler_analytic = ultranest.ReactiveNestedSampler(\n",
    "    [\"mu_0\", \"sigma_0\"], \n",
    "    loglike = ultranest_analytic_posterior, \n",
    "    transform = transformation,\n",
    "    vectorized = True,\n",
    "    draw_multiple = True,\n",
    "    ndraw_min = 1000,\n",
    "    ndraw_max = 100000,\n",
    ")\n",
    "result_analytic = sampler_analytic.run(\n",
    "    min_num_live_points = 1000,\n",
    "    min_ess = 1000,\n",
    ")\n",
    "sampler_analytic.print_results()"
   ]
  },
  {
   "cell_type": "code",
   "execution_count": 11,
   "metadata": {
    "tags": []
   },
   "outputs": [
    {
     "data": {
      "application/vnd.jupyter.widget-view+json": {
       "model_id": "5e5f3ddbdb9240f0a3f89cd81a6ec8cf",
       "version_major": 2,
       "version_minor": 0
      },
      "text/plain": [
       "VBox(children=(HTML(value=''), GridspecLayout(children=(HTML(value=\"<div style='background-color:#6E6BF4;'>&nb…"
      ]
     },
     "metadata": {},
     "output_type": "display_data"
    },
    {
     "name": "stdout",
     "output_type": "stream",
     "text": [
      "Z=2.3(98.98%) | Like=8.05..8.06 [8.0526..8.0526]*| it/evals=10377/15828 eff=69.9825% N=1000 0        0 \n",
      "logZ = 2.266 +- 0.093\n",
      "  single instance: logZ = 2.266 +- 0.069\n",
      "  bootstrapped   : logZ = 2.266 +- 0.093\n",
      "  tail           : logZ = +- 0.010\n",
      "insert order U test : converged: True correlation: inf iterations\n",
      "\n",
      "    mu_0                : 0.668 │ ▁ ▁▁▁▁▁▁▁▂▂▃▄▄▅▆▆▇▇▇▆▆▅▄▄▃▂▂▁▁▁▁▁▁▁▁▁ │1.351     1.009 +- 0.080\n",
      "    sigma_0             : 0.58  │ ▁▁▁▁▁▁▁▁▁▁▂▂▃▄▅▆▆▆▇▇▇▆▅▅▃▂▂▁▁▁▁▁▁▁▁ ▁ │3.00      1.80 +- 0.27\n",
      "\n"
     ]
    }
   ],
   "source": [
    "sampler_NDE = ultranest.ReactiveNestedSampler(\n",
    "    [\"mu_0\", \"sigma_0\"], \n",
    "    loglike = ultranest_NDE_posterior, \n",
    "    transform = transformation,\n",
    "    vectorized = True,\n",
    "    draw_multiple = True,\n",
    "    ndraw_min = 1000,\n",
    "    ndraw_max = 100000,\n",
    ")\n",
    "result_NDE = sampler_NDE.run(\n",
    "    min_num_live_points = 1000,\n",
    "    min_ess = 1000,\n",
    ")\n",
    "sampler_NDE.print_results()"
   ]
  },
  {
   "cell_type": "code",
   "execution_count": 12,
   "metadata": {
    "tags": []
   },
   "outputs": [],
   "source": [
    "def cornerplot(results, fig = None, color = None):\n",
    "    data = np.array(results['weighted_samples']['points'])\n",
    "    weights = np.array(results['weighted_samples']['weights'])\n",
    "    cumsumweights = np.cumsum(weights)\n",
    "\n",
    "    mask = cumsumweights > 1e-4\n",
    "\n",
    "    fig = corner.corner(\n",
    "    data[mask, :],\n",
    "    weights = weights[mask], \n",
    "    fig = fig, \n",
    "    color = color, \n",
    "    truths = [1.0, 1.0], \n",
    "    levels = (0.68, 0.95), \n",
    "    plot_contour=True,\n",
    "    plot_density=False,\n",
    "    plot_datapoints=False,\n",
    "    labels = [\"$\\mu_0$\", \"$\\sigma_0$\"]\n",
    ")\n",
    "    return fig"
   ]
  },
  {
   "cell_type": "code",
   "execution_count": 13,
   "metadata": {
    "tags": []
   },
   "outputs": [
    {
     "data": {
      "image/png": "[encoded data removed]",
      "text/plain": [
       "<Figure size 500x500 with 4 Axes>"
      ]
     },
     "metadata": {},
     "output_type": "display_data"
    }
   ],
   "source": [
    "fig = plt.figure(figsize = (5, 5))\n",
    "fig = cornerplot(result_NDE, fig, \"blue\")\n",
    "fig = cornerplot(result_analytic, fig, \"red\")"
   ]
  },
  {
   "cell_type": "code",
   "execution_count": null,
   "metadata": {},
   "outputs": [],
   "source": []
  }
 ],
 "metadata": {
  "kernelspec": {
   "display_name": "Python 3 (ipykernel)",
   "language": "python",
   "name": "python3"
  },
  "language_info": {
   "codemirror_mode": {
    "name": "ipython",
    "version": 3
   },
   "file_extension": ".py",
   "mimetype": "text/x-python",
   "name": "python",
   "nbconvert_exporter": "python",
   "pygments_lexer": "ipython3",
   "version": "3.8.18"
  }
 },
 "nbformat": 4,
 "nbformat_minor": 4
}
